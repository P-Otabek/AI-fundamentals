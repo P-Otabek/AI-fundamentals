{
 "cells": [
  {
   "cell_type": "code",
   "execution_count": 6,
   "id": "90f6f2c1",
   "metadata": {},
   "outputs": [
    {
     "name": "stdout",
     "output_type": "stream",
     "text": [
      "Shortest distance from Arad to Arad: 0\n",
      "Shortest distance from Arad to Zerind: 75\n",
      "Shortest distance from Arad to Timisoara: 118\n",
      "Shortest distance from Arad to Oradea: 146\n",
      "Shortest distance from Arad to Lugoj: 229\n",
      "Shortest distance from Arad to Mehadia: 299\n",
      "Shortest distance from Arad to Drobeta: 374\n",
      "Shortest distance from Arad to Sibiu: 140\n",
      "Shortest distance from Arad to Rimnicu V: 220\n",
      "Shortest distance from Arad to Craiova: 366\n",
      "Shortest distance from Arad to Fagaras: 239\n",
      "Shortest distance from Arad to Pitesti: 317\n",
      "Shortest distance from Arad to Bucharest: 418\n",
      "Shortest distance from Arad to Giurgiu: 508\n",
      "Shortest distance from Arad to Urziceni: 503\n",
      "Shortest distance from Arad to Hirsova: 601\n",
      "Shortest distance from Arad to Eforie: 687\n",
      "Shortest distance from Arad to Vaslui: 645\n",
      "Shortest distance from Arad to Iasi: 737\n",
      "Shortest distance from Arad to Neamt: 834\n"
     ]
    }
   ],
   "source": [
    "#Shortest distance problem: Calculate shortest distance from Arad city to all other cities\n",
    "import csv\n",
    "import heapq\n",
    "\n",
    "# Read the graph from the CSV file\n",
    "graph = {}\n",
    "with open('Romania_map.csv') as file:\n",
    "    reader = csv.reader(file)\n",
    "    cities = next(reader)[1:]\n",
    "    for city in cities:\n",
    "        graph[city] = {}\n",
    "    for row in reader:\n",
    "        node = row[0]\n",
    "        edges = {}\n",
    "        for i in range(1, len(row)):\n",
    "            if row[i] != '':\n",
    "                edges[cities[i-1]] = int(row[i])\n",
    "        graph[node] = edges\n",
    "\n",
    "# Define the Dijkstra's algorithm function\n",
    "def dijkstra(graph, start):\n",
    "    # Initialize the distances and the visited set\n",
    "    distances = {node: float('inf') for node in graph}\n",
    "    distances[start] = 0\n",
    "    visited = set()\n",
    "\n",
    "    # Initialize the priority queue with the start node\n",
    "    pq = [(0, start)]\n",
    "\n",
    "    # Loop until the priority queue is empty\n",
    "    while pq:\n",
    "        # Get the node with the minimum distance\n",
    "        (dist, node) = heapq.heappop(pq)\n",
    "\n",
    "        # Skip visited nodes\n",
    "        if node in visited:\n",
    "            continue\n",
    "\n",
    "        # Mark the node as visited\n",
    "        visited.add(node)\n",
    "\n",
    "        # Update the distances of the neighbors\n",
    "        for neighbor, weight in graph[node].items():\n",
    "            if neighbor not in visited:\n",
    "                new_dist = dist + weight\n",
    "                if new_dist < distances[neighbor]:\n",
    "                    distances[neighbor] = new_dist\n",
    "                    heapq.heappush(pq, (new_dist, neighbor))\n",
    "\n",
    "    return distances\n",
    "\n",
    "# Call the Dijkstra's algorithm function with Arad as the source vertex\n",
    "distances = dijkstra(graph, 'Arad')\n",
    "\n",
    "# Print the shortest distances to all other vertices\n",
    "for vertex, distance in distances.items():\n",
    "    print('Shortest distance from Arad to {}: {}'.format(vertex, distance))\n"
   ]
  },
  {
   "cell_type": "code",
   "execution_count": null,
   "id": "b5b2d635",
   "metadata": {},
   "outputs": [],
   "source": []
  }
 ],
 "metadata": {
  "kernelspec": {
   "display_name": "Python 3 (ipykernel)",
   "language": "python",
   "name": "python3"
  },
  "language_info": {
   "codemirror_mode": {
    "name": "ipython",
    "version": 3
   },
   "file_extension": ".py",
   "mimetype": "text/x-python",
   "name": "python",
   "nbconvert_exporter": "python",
   "pygments_lexer": "ipython3",
   "version": "3.9.13"
  }
 },
 "nbformat": 4,
 "nbformat_minor": 5
}
